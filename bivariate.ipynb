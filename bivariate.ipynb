{
 "cells": [
  {
   "cell_type": "markdown",
   "id": "b7173af6-e319-4077-b3e3-52616b910f99",
   "metadata": {},
   "source": [
    "# Bivariate Example ... "
   ]
  },
  {
   "cell_type": "code",
   "execution_count": 63,
   "id": "1b4edc49-d09d-47a6-9f73-d3f2d2f1d590",
   "metadata": {},
   "outputs": [
    {
     "name": "stdout",
     "output_type": "stream",
     "text": [
      "The lab_black extension is already loaded. To reload it, use:\n",
      "  %reload_ext lab_black\n"
     ]
    },
    {
     "data": {
      "application/javascript": [
       "\n",
       "            setTimeout(function() {\n",
       "                var nbb_cell_id = 63;\n",
       "                var nbb_unformatted_code = \"%load_ext lab_black\";\n",
       "                var nbb_formatted_code = \"%load_ext lab_black\";\n",
       "                var nbb_cells = Jupyter.notebook.get_cells();\n",
       "                for (var i = 0; i < nbb_cells.length; ++i) {\n",
       "                    if (nbb_cells[i].input_prompt_number == nbb_cell_id) {\n",
       "                        if (nbb_cells[i].get_text() == nbb_unformatted_code) {\n",
       "                             nbb_cells[i].set_text(nbb_formatted_code);\n",
       "                        }\n",
       "                        break;\n",
       "                    }\n",
       "                }\n",
       "            }, 500);\n",
       "            "
      ],
      "text/plain": [
       "<IPython.core.display.Javascript object>"
      ]
     },
     "metadata": {},
     "output_type": "display_data"
    }
   ],
   "source": [
    "%load_ext lab_black"
   ]
  },
  {
   "cell_type": "code",
   "execution_count": 64,
   "id": "dc94ab81-5f56-425c-8913-6617d4781808",
   "metadata": {},
   "outputs": [
    {
     "data": {
      "application/javascript": [
       "\n",
       "            setTimeout(function() {\n",
       "                var nbb_cell_id = 64;\n",
       "                var nbb_unformatted_code = \"from qsp_models import *\\nimport tensorflow as tf\\nimport numpy as np\\n\\n# visualization tools\\n%matplotlib inline\\nimport seaborn as sns\\nimport pandas as pd\\nimport matplotlib.pyplot as plt\\nfrom cirq.contrib.svg import SVGCircuit\\nimport scipy\\nimport IPython\\n\\nsns.set()\\nplt.rcParams['figure.figsize'] = [10, 5]\";\n",
       "                var nbb_formatted_code = \"from qsp_models import *\\nimport tensorflow as tf\\nimport numpy as np\\n\\n# visualization tools\\n%matplotlib inline\\nimport seaborn as sns\\nimport pandas as pd\\nimport matplotlib.pyplot as plt\\nfrom cirq.contrib.svg import SVGCircuit\\nimport scipy\\nimport IPython\\n\\nsns.set()\\nplt.rcParams[\\\"figure.figsize\\\"] = [10, 5]\";\n",
       "                var nbb_cells = Jupyter.notebook.get_cells();\n",
       "                for (var i = 0; i < nbb_cells.length; ++i) {\n",
       "                    if (nbb_cells[i].input_prompt_number == nbb_cell_id) {\n",
       "                        if (nbb_cells[i].get_text() == nbb_unformatted_code) {\n",
       "                             nbb_cells[i].set_text(nbb_formatted_code);\n",
       "                        }\n",
       "                        break;\n",
       "                    }\n",
       "                }\n",
       "            }, 500);\n",
       "            "
      ],
      "text/plain": [
       "<IPython.core.display.Javascript object>"
      ]
     },
     "metadata": {},
     "output_type": "display_data"
    }
   ],
   "source": [
    "from qsp_models import *\n",
    "import tensorflow as tf\n",
    "import numpy as np\n",
    "\n",
    "# visualization tools\n",
    "%matplotlib inline\n",
    "import seaborn as sns\n",
    "import pandas as pd\n",
    "import matplotlib.pyplot as plt\n",
    "from cirq.contrib.svg import SVGCircuit\n",
    "import scipy\n",
    "import IPython\n",
    "\n",
    "sns.set()\n",
    "plt.rcParams[\"figure.figsize\"] = [10, 5]"
   ]
  },
  {
   "cell_type": "code",
   "execution_count": 65,
   "id": "407d20eb-5af8-4ed4-b338-43d9595103ae",
   "metadata": {},
   "outputs": [
    {
     "data": {
      "image/png": "[encoded data removed]",
      "text/plain": [
       "<Figure size 720x360 with 1 Axes>"
      ]
     },
     "metadata": {},
     "output_type": "display_data"
    },
    {
     "data": {
      "application/javascript": [
       "\n",
       "            setTimeout(function() {\n",
       "                var nbb_cell_id = 65;\n",
       "                var nbb_unformatted_code = \"theta_input = np.arccos(np.array([[0.0, 1], [0, 1], [0, 0]]))\\nexpected_real_parts = [np.array([[0], [0], [1]]), np.array([[0], [0], [0]])]\\n\\npoly_deg = 4\\nmodel = construct_bqsp_model(poly_deg)\\nhistory = model.fit(x=theta_input, y=expected_real_parts, epochs=1000, verbose=0)\\nplot_loss(history)\";\n",
       "                var nbb_formatted_code = \"theta_input = np.arccos(np.array([[0.0, 1], [0, 1], [0, 0]]))\\nexpected_real_parts = [np.array([[0], [0], [1]]), np.array([[0], [0], [0]])]\\n\\npoly_deg = 4\\nmodel = construct_bqsp_model(poly_deg)\\nhistory = model.fit(x=theta_input, y=expected_real_parts, epochs=1000, verbose=0)\\nplot_loss(history)\";\n",
       "                var nbb_cells = Jupyter.notebook.get_cells();\n",
       "                for (var i = 0; i < nbb_cells.length; ++i) {\n",
       "                    if (nbb_cells[i].input_prompt_number == nbb_cell_id) {\n",
       "                        if (nbb_cells[i].get_text() == nbb_unformatted_code) {\n",
       "                             nbb_cells[i].set_text(nbb_formatted_code);\n",
       "                        }\n",
       "                        break;\n",
       "                    }\n",
       "                }\n",
       "            }, 500);\n",
       "            "
      ],
      "text/plain": [
       "<IPython.core.display.Javascript object>"
      ]
     },
     "metadata": {},
     "output_type": "display_data"
    }
   ],
   "source": [
    "theta_input = np.arccos(np.array([[0.0, 1], [0, 1], [0, 0]]))\n",
    "expected_real_parts = [np.array([[0], [0], [1]]), np.array([[0], [0], [0]])]\n",
    "\n",
    "poly_deg = 4\n",
    "model = construct_bqsp_model(poly_deg)\n",
    "history = model.fit(x=theta_input, y=expected_real_parts, epochs=1000, verbose=0)\n",
    "plot_loss(history)"
   ]
  },
  {
   "cell_type": "code",
   "execution_count": 62,
   "id": "9bac3681-7701-4423-937a-0e6c3139da44",
   "metadata": {},
   "outputs": [
    {
     "data": {
      "text/plain": [
       "(array([-0.9997858, -0.9997858,  1.0000002], dtype=float32),\n",
       " array([2.0705521e-02, 2.0705521e-02, 2.3841858e-07], dtype=float32))"
      ]
     },
     "execution_count": 62,
     "metadata": {},
     "output_type": "execute_result"
    },
    {
     "data": {
      "application/javascript": [
       "\n",
       "            setTimeout(function() {\n",
       "                var nbb_cell_id = 62;\n",
       "                var nbb_unformatted_code = \"model.predict(theta_input)\";\n",
       "                var nbb_formatted_code = \"model.predict(theta_input)\";\n",
       "                var nbb_cells = Jupyter.notebook.get_cells();\n",
       "                for (var i = 0; i < nbb_cells.length; ++i) {\n",
       "                    if (nbb_cells[i].input_prompt_number == nbb_cell_id) {\n",
       "                        if (nbb_cells[i].get_text() == nbb_unformatted_code) {\n",
       "                             nbb_cells[i].set_text(nbb_formatted_code);\n",
       "                        }\n",
       "                        break;\n",
       "                    }\n",
       "                }\n",
       "            }, 500);\n",
       "            "
      ],
      "text/plain": [
       "<IPython.core.display.Javascript object>"
      ]
     },
     "metadata": {},
     "output_type": "display_data"
    }
   ],
   "source": [
    "model.predict(theta_input)"
   ]
  }
 ],
 "metadata": {
  "kernelspec": {
   "display_name": "Python 3",
   "language": "python",
   "name": "python3"
  },
  "language_info": {
   "codemirror_mode": {
    "name": "ipython",
    "version": 3
   },
   "file_extension": ".py",
   "mimetype": "text/x-python",
   "name": "python",
   "nbconvert_exporter": "python",
   "pygments_lexer": "ipython3",
   "version": "3.8.8"
  }
 },
 "nbformat": 4,
 "nbformat_minor": 5
}
