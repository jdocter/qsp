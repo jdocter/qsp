{
 "cells": [
  {
   "cell_type": "code",
   "execution_count": 2,
   "id": "willing-technical",
   "metadata": {},
   "outputs": [],
   "source": [
    "import cirq\n",
    "import sympy\n",
    "import numpy as np\n",
    "import scipy\n",
    "\n",
    "# visualization tools\n",
    "import seaborn as sns\n",
    "import pandas as pd\n",
    "%matplotlib inline\n",
    "import matplotlib.pyplot as plt\n",
    "from cirq.contrib.svg import SVGCircuit\n",
    "import IPython\n",
    "\n",
    "sns.set()\n",
    "InteractiveShell = IPython.core.interactiveshell.InteractiveShell\n",
    "InteractiveShell.ast_node_interactivity = \"all\""
   ]
  },
  {
   "cell_type": "code",
   "execution_count": 3,
   "id": "auburn-account",
   "metadata": {},
   "outputs": [],
   "source": [
    "def make_qft(qubits):\n",
    "    \"\"\"Generator for the QFT on a list of qubits.\"\"\"\n",
    "    qreg = list(qubits)\n",
    "    while len(qreg) > 0:\n",
    "        q_head = qreg.pop(0)\n",
    "        yield cirq.H(q_head)\n",
    "        for i, qubit in enumerate(qreg):\n",
    "            yield (cirq.CZ ** (1 / 2 ** (i + 1)))(qubit, q_head)"
   ]
  },
  {
   "cell_type": "code",
   "execution_count": 18,
   "id": "subtle-quality",
   "metadata": {},
   "outputs": [
    {
     "data": {
      "text/plain": [
       "'Visually check the QFT circuit.'"
      ]
     },
     "execution_count": 18,
     "metadata": {},
     "output_type": "execute_result"
    },
    {
     "data": {
      "text/plain": [
       "'eigenvalues'"
      ]
     },
     "execution_count": 18,
     "metadata": {},
     "output_type": "execute_result"
    },
    {
     "data": {
      "text/plain": [
       "array([ 1.        -1.79641798e-16j, -1.        +4.08639198e-17j,\n",
       "        0.58518536-8.10899559e-01j, -0.88791115-4.60014981e-01j,\n",
       "       -0.75854991-6.51614942e-01j, -0.49694177-8.67783890e-01j,\n",
       "       -0.62780251-7.78372669e-01j,  0.89539314-4.45276460e-01j,\n",
       "        0.99841535-5.62742198e-02j,  0.99189388+1.27069001e-01j,\n",
       "        0.70950701+7.04698374e-01j, -0.56956294+8.21947723e-01j,\n",
       "       -0.33833743+9.41024856e-01j,  0.32331339+9.46291950e-01j,\n",
       "        0.14148993+9.89939696e-01j, -0.08510603+9.96371901e-01j])"
      ]
     },
     "execution_count": 18,
     "metadata": {},
     "output_type": "execute_result"
    },
    {
     "data": {
      "text/plain": [
       "<AxesSubplot:xlabel='r', ylabel='i'>"
      ]
     },
     "execution_count": 18,
     "metadata": {},
     "output_type": "execute_result"
    },
    {
     "name": "stdout",
     "output_type": "stream",
     "text": [
      "                  ┌───────┐   ┌────────────┐   ┌───────┐\n",
      "0: ───H───@────────@───────────@───────────────────────────────────────\n",
      "          │        │           │\n",
      "1: ───────@^0.5────┼─────H─────┼──────@─────────@──────────────────────\n",
      "                   │           │      │         │\n",
      "2: ────────────────@^0.25──────┼──────@^0.5─────┼─────H────@───────────\n",
      "                               │                │          │\n",
      "3: ────────────────────────────@^(1/8)──────────@^0.25─────@^0.5───H───\n",
      "                  └───────┘   └────────────┘   └───────┘\n"
     ]
    },
    {
     "data": {
      "image/png": "[encoded data removed]",
      "text/plain": [
       "<Figure size 432x288 with 1 Axes>"
      ]
     },
     "metadata": {},
     "output_type": "display_data"
    }
   ],
   "source": [
    "\"\"\"Visually check the QFT circuit.\"\"\"\n",
    "qubits = cirq.LineQubit.range(4)\n",
    "qft = cirq.Circuit(make_qft(qubits))\n",
    "qft_u = qft.unitary()\n",
    "'eigenvalues'\n",
    "ev = scipy.linalg.eigvals(qft_u)\n",
    "ev\n",
    "\n",
    "sns.scatterplot(data={'r':np.real(ev), 'i':np.imag(ev)},x='r',y='i')\n",
    "print(qft)"
   ]
  },
  {
   "cell_type": "code",
   "execution_count": 4,
   "id": "whole-mouth",
   "metadata": {},
   "outputs": [
    {
     "data": {
      "text/plain": [
       "'Visually check the inverse QFT circuit.'"
      ]
     },
     "execution_count": 4,
     "metadata": {},
     "output_type": "execute_result"
    },
    {
     "name": "stdout",
     "output_type": "stream",
     "text": [
      "                   ┌────────┐   ┌──────────────┐   ┌────────┐\n",
      "0: ──────────────────────────────@──────────────────@───────────@────────H───\n",
      "                                 │                  │           │\n",
      "1: ─────────────────@────────────┼───────@──────────┼──────H────@^-0.5───────\n",
      "                    │            │       │          │\n",
      "2: ───────@─────────┼──────H─────┼───────@^-0.5─────@^-0.25──────────────────\n",
      "          │         │            │\n",
      "3: ───H───@^-0.5────@^-0.25──────@^(-1/8)────────────────────────────────────\n",
      "                   └────────┘   └──────────────┘   └────────┘\n"
     ]
    }
   ],
   "source": [
    "def make_qft_inverse(qubits):\n",
    "    \"\"\"Generator for the inverse QFT on a list of qubits.\"\"\"\n",
    "    qreg = list(qubits)[::-1]\n",
    "    while len(qreg) > 0:\n",
    "        q_head = qreg.pop(0)\n",
    "        yield cirq.H(q_head)\n",
    "        for i, qubit in enumerate(qreg):\n",
    "            yield (cirq.CZ ** (-1 / 2 ** (i + 1)))(qubit, q_head)\n",
    "            \n",
    "\"\"\"Visually check the inverse QFT circuit.\"\"\"\n",
    "qubits = cirq.LineQubit.range(4)\n",
    "iqft = cirq.Circuit(make_qft_inverse(qubits))\n",
    "print(iqft)"
   ]
  },
  {
   "cell_type": "code",
   "execution_count": 1,
   "id": "colored-hardware",
   "metadata": {},
   "outputs": [
    {
     "name": "stdout",
     "output_type": "stream",
     "text": [
      "0: ───H───X───@───X───H───Z───@───H───M───\n",
      "              │               │\n",
      "1: ───H───X───X───X───H───Z───X───H───M───\n",
      "measurements: 0=0 1=1\n",
      "output vector: |01⟩\n"
     ]
    }
   ],
   "source": [
    "import cirq\n",
    "\n",
    "q0, q1 = cirq.LineQubit.range(2)\n",
    "# q0 = cirq.GridQubit(0, 0)\n",
    "# q1 = cirq.GridQubit(0, 1)\n",
    "\n",
    "grover = cirq.Circuit()\n",
    "grover.append([cirq.H(q0), cirq.H(q1)])\n",
    "\n",
    "# Oracle for |00⟩ :\n",
    "grover.append([cirq.X(q0), cirq.X(q1)])\n",
    "grover.append(cirq.CX(q0,q1))\n",
    "grover.append([cirq.X(q0), cirq.X(q1)])\n",
    "\n",
    "grover.append([cirq.H(q0), cirq.H(q1)])\n",
    "\n",
    "# reflection circuit :\n",
    "grover.append([cirq.Z(q0), cirq.Z(q1)])\n",
    "grover.append(cirq.CX(q0,q1))\n",
    "\n",
    "grover.append([cirq.H(q0), cirq.H(q1)])\n",
    "grover.append([cirq.measure(q0), cirq.measure(q1)])\n",
    "\n",
    "print(grover)\n",
    "\n",
    "simulator = cirq.Simulator()\n",
    "result = simulator.simulate(grover)\n",
    "# result = simulator.run(circuit, repetitions=40) # NISQ computers\n",
    "print(result)"
   ]
  },
  {
   "cell_type": "code",
   "execution_count": null,
   "id": "senior-verification",
   "metadata": {},
   "outputs": [],
   "source": []
  }
 ],
 "metadata": {
  "kernelspec": {
   "display_name": "Python 3",
   "language": "python",
   "name": "python3"
  },
  "language_info": {
   "codemirror_mode": {
    "name": "ipython",
    "version": 3
   },
   "file_extension": ".py",
   "mimetype": "text/x-python",
   "name": "python",
   "nbconvert_exporter": "python",
   "pygments_lexer": "ipython3",
   "version": "3.8.8"
  },
  "varInspector": {
   "cols": {
    "lenName": 16,
    "lenType": 16,
    "lenVar": 40
   },
   "kernels_config": {
    "python": {
     "delete_cmd_postfix": "",
     "delete_cmd_prefix": "del ",
     "library": "var_list.py",
     "varRefreshCmd": "print(var_dic_list())"
    },
    "r": {
     "delete_cmd_postfix": ") ",
     "delete_cmd_prefix": "rm(",
     "library": "var_list.r",
     "varRefreshCmd": "cat(var_dic_list()) "
    }
   },
   "types_to_exclude": [
    "module",
    "function",
    "builtin_function_or_method",
    "instance",
    "_Feature"
   ],
   "window_display": false
  }
 },
 "nbformat": 4,
 "nbformat_minor": 5
}
